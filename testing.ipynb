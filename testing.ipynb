{
 "cells": [
  {
   "cell_type": "code",
   "execution_count": 1,
   "metadata": {},
   "outputs": [
    {
     "name": "stdout",
     "output_type": "stream",
     "text": [
      "Collecting linkedin-api\n",
      "  Downloading linkedin_api-2.3.1-py3-none-any.whl.metadata (14 kB)\n",
      "Collecting beautifulsoup4<5.0.0,>=4.12.3 (from linkedin-api)\n",
      "  Downloading beautifulsoup4-4.12.3-py3-none-any.whl.metadata (3.8 kB)\n",
      "Collecting lxml<6.0.0,>=5.3.0 (from linkedin-api)\n",
      "  Downloading lxml-5.3.0-cp311-cp311-win_amd64.whl.metadata (3.9 kB)\n",
      "Collecting requests<3.0.0,>=2.32.3 (from linkedin-api)\n",
      "  Using cached requests-2.32.3-py3-none-any.whl.metadata (4.6 kB)\n",
      "Collecting soupsieve>1.2 (from beautifulsoup4<5.0.0,>=4.12.3->linkedin-api)\n",
      "  Downloading soupsieve-2.6-py3-none-any.whl.metadata (4.6 kB)\n",
      "Collecting charset-normalizer<4,>=2 (from requests<3.0.0,>=2.32.3->linkedin-api)\n",
      "  Downloading charset_normalizer-3.4.0-cp311-cp311-win_amd64.whl.metadata (34 kB)\n",
      "Collecting idna<4,>=2.5 (from requests<3.0.0,>=2.32.3->linkedin-api)\n",
      "  Using cached idna-3.10-py3-none-any.whl.metadata (10 kB)\n",
      "Collecting urllib3<3,>=1.21.1 (from requests<3.0.0,>=2.32.3->linkedin-api)\n",
      "  Using cached urllib3-2.2.3-py3-none-any.whl.metadata (6.5 kB)\n",
      "Collecting certifi>=2017.4.17 (from requests<3.0.0,>=2.32.3->linkedin-api)\n",
      "  Using cached certifi-2024.8.30-py3-none-any.whl.metadata (2.2 kB)\n",
      "Downloading linkedin_api-2.3.1-py3-none-any.whl (26 kB)\n",
      "Downloading beautifulsoup4-4.12.3-py3-none-any.whl (147 kB)\n",
      "Downloading lxml-5.3.0-cp311-cp311-win_amd64.whl (3.8 MB)\n",
      "   ---------------------------------------- 0.0/3.8 MB ? eta -:--:--\n",
      "   -------------------------------------- - 3.7/3.8 MB 21.8 MB/s eta 0:00:01\n",
      "   ---------------------------------------- 3.8/3.8 MB 10.3 MB/s eta 0:00:00\n",
      "Using cached requests-2.32.3-py3-none-any.whl (64 kB)\n",
      "Using cached certifi-2024.8.30-py3-none-any.whl (167 kB)\n",
      "Downloading charset_normalizer-3.4.0-cp311-cp311-win_amd64.whl (101 kB)\n",
      "Using cached idna-3.10-py3-none-any.whl (70 kB)\n",
      "Downloading soupsieve-2.6-py3-none-any.whl (36 kB)\n",
      "Using cached urllib3-2.2.3-py3-none-any.whl (126 kB)\n",
      "Installing collected packages: urllib3, soupsieve, lxml, idna, charset-normalizer, certifi, requests, beautifulsoup4, linkedin-api\n",
      "Successfully installed beautifulsoup4-4.12.3 certifi-2024.8.30 charset-normalizer-3.4.0 idna-3.10 linkedin-api-2.3.1 lxml-5.3.0 requests-2.32.3 soupsieve-2.6 urllib3-2.2.3\n",
      "Note: you may need to restart the kernel to use updated packages.\n"
     ]
    }
   ],
   "source": [
    "pip install linkedin-api"
   ]
  },
  {
   "cell_type": "code",
   "execution_count": 2,
   "metadata": {},
   "outputs": [
    {
     "name": "stdout",
     "output_type": "stream",
     "text": [
      "Collecting git+https://github.com/tomquirk/linkedin-api.git\n",
      "  Cloning https://github.com/tomquirk/linkedin-api.git to c:\\users\\hp\\appdata\\local\\temp\\pip-req-build-c4003ey1\n",
      "  Resolved https://github.com/tomquirk/linkedin-api.git to commit 56a11b32c1ed9c83b7992218fcca35bc0bed71b4\n",
      "  Installing build dependencies: started\n",
      "  Installing build dependencies: finished with status 'done'\n",
      "  Getting requirements to build wheel: started\n",
      "  Getting requirements to build wheel: finished with status 'done'\n",
      "  Preparing metadata (pyproject.toml): started\n",
      "  Preparing metadata (pyproject.toml): finished with status 'done'\n",
      "Requirement already satisfied: beautifulsoup4<5.0.0,>=4.12.3 in c:\\users\\hp\\desktop\\sub rosa offline\\scraper api\\.venv\\lib\\site-packages (from linkedin-api==2.3.1) (4.12.3)\n",
      "Requirement already satisfied: lxml<6.0.0,>=5.3.0 in c:\\users\\hp\\desktop\\sub rosa offline\\scraper api\\.venv\\lib\\site-packages (from linkedin-api==2.3.1) (5.3.0)\n",
      "Requirement already satisfied: requests<3.0.0,>=2.32.3 in c:\\users\\hp\\desktop\\sub rosa offline\\scraper api\\.venv\\lib\\site-packages (from linkedin-api==2.3.1) (2.32.3)\n",
      "Requirement already satisfied: soupsieve>1.2 in c:\\users\\hp\\desktop\\sub rosa offline\\scraper api\\.venv\\lib\\site-packages (from beautifulsoup4<5.0.0,>=4.12.3->linkedin-api==2.3.1) (2.6)\n",
      "Requirement already satisfied: charset-normalizer<4,>=2 in c:\\users\\hp\\desktop\\sub rosa offline\\scraper api\\.venv\\lib\\site-packages (from requests<3.0.0,>=2.32.3->linkedin-api==2.3.1) (3.4.0)\n",
      "Requirement already satisfied: idna<4,>=2.5 in c:\\users\\hp\\desktop\\sub rosa offline\\scraper api\\.venv\\lib\\site-packages (from requests<3.0.0,>=2.32.3->linkedin-api==2.3.1) (3.10)\n",
      "Requirement already satisfied: urllib3<3,>=1.21.1 in c:\\users\\hp\\desktop\\sub rosa offline\\scraper api\\.venv\\lib\\site-packages (from requests<3.0.0,>=2.32.3->linkedin-api==2.3.1) (2.2.3)\n",
      "Requirement already satisfied: certifi>=2017.4.17 in c:\\users\\hp\\desktop\\sub rosa offline\\scraper api\\.venv\\lib\\site-packages (from requests<3.0.0,>=2.32.3->linkedin-api==2.3.1) (2024.8.30)\n",
      "Note: you may need to restart the kernel to use updated packages.\n"
     ]
    },
    {
     "name": "stderr",
     "output_type": "stream",
     "text": [
      "  Running command git clone --filter=blob:none --quiet https://github.com/tomquirk/linkedin-api.git 'C:\\Users\\hp\\AppData\\Local\\Temp\\pip-req-build-c4003ey1'\n"
     ]
    }
   ],
   "source": [
    "pip install git+https://github.com/tomquirk/linkedin-api.git"
   ]
  },
  {
   "cell_type": "code",
   "execution_count": 6,
   "metadata": {},
   "outputs": [
    {
     "name": "stdout",
     "output_type": "stream",
     "text": [
      "Collecting poetry\n",
      "  Downloading poetry-1.8.5-py3-none-any.whl.metadata (6.9 kB)\n",
      "Collecting build<2.0.0,>=1.0.3 (from poetry)\n",
      "  Downloading build-1.2.2.post1-py3-none-any.whl.metadata (6.5 kB)\n",
      "Collecting cachecontrol<0.15.0,>=0.14.0 (from cachecontrol[filecache]<0.15.0,>=0.14.0->poetry)\n",
      "  Downloading cachecontrol-0.14.1-py3-none-any.whl.metadata (3.1 kB)\n",
      "Collecting cleo<3.0.0,>=2.1.0 (from poetry)\n",
      "  Downloading cleo-2.1.0-py3-none-any.whl.metadata (12 kB)\n",
      "Collecting crashtest<0.5.0,>=0.4.1 (from poetry)\n",
      "  Downloading crashtest-0.4.1-py3-none-any.whl.metadata (1.1 kB)\n",
      "Collecting dulwich<0.22.0,>=0.21.2 (from poetry)\n",
      "  Downloading dulwich-0.21.7-cp311-cp311-win_amd64.whl.metadata (4.4 kB)\n",
      "Collecting fastjsonschema<3.0.0,>=2.18.0 (from poetry)\n",
      "  Downloading fastjsonschema-2.21.1-py3-none-any.whl.metadata (2.2 kB)\n",
      "Collecting installer<0.8.0,>=0.7.0 (from poetry)\n",
      "  Downloading installer-0.7.0-py3-none-any.whl.metadata (936 bytes)\n",
      "Collecting keyring<25.0.0,>=24.0.0 (from poetry)\n",
      "  Downloading keyring-24.3.1-py3-none-any.whl.metadata (20 kB)\n",
      "Requirement already satisfied: packaging>=23.1 in c:\\users\\hp\\desktop\\sub rosa offline\\scraper api\\.venv\\lib\\site-packages (from poetry) (24.2)\n",
      "Collecting pexpect<5.0.0,>=4.7.0 (from poetry)\n",
      "  Downloading pexpect-4.9.0-py2.py3-none-any.whl.metadata (2.5 kB)\n",
      "Collecting pkginfo<2.0,>=1.12 (from poetry)\n",
      "  Downloading pkginfo-1.12.0-py3-none-any.whl.metadata (12 kB)\n",
      "Requirement already satisfied: platformdirs<5,>=3.0.0 in c:\\users\\hp\\desktop\\sub rosa offline\\scraper api\\.venv\\lib\\site-packages (from poetry) (4.3.6)\n",
      "Collecting poetry-core==1.9.1 (from poetry)\n",
      "  Using cached poetry_core-1.9.1-py3-none-any.whl.metadata (3.5 kB)\n",
      "Collecting poetry-plugin-export<2.0.0,>=1.6.0 (from poetry)\n",
      "  Downloading poetry_plugin_export-1.8.0-py3-none-any.whl.metadata (2.8 kB)\n",
      "Collecting pyproject-hooks<2.0.0,>=1.0.0 (from poetry)\n",
      "  Downloading pyproject_hooks-1.2.0-py3-none-any.whl.metadata (1.3 kB)\n",
      "Requirement already satisfied: requests<3.0,>=2.26 in c:\\users\\hp\\desktop\\sub rosa offline\\scraper api\\.venv\\lib\\site-packages (from poetry) (2.32.3)\n",
      "Collecting requests-toolbelt<2.0.0,>=1.0.0 (from poetry)\n",
      "  Downloading requests_toolbelt-1.0.0-py2.py3-none-any.whl.metadata (14 kB)\n",
      "Collecting shellingham<2.0,>=1.5 (from poetry)\n",
      "  Downloading shellingham-1.5.4-py2.py3-none-any.whl.metadata (3.5 kB)\n",
      "Collecting tomlkit<1.0.0,>=0.11.4 (from poetry)\n",
      "  Downloading tomlkit-0.13.2-py3-none-any.whl.metadata (2.7 kB)\n",
      "Collecting trove-classifiers>=2022.5.19 (from poetry)\n",
      "  Downloading trove_classifiers-2024.10.21.16-py3-none-any.whl.metadata (2.2 kB)\n",
      "Collecting virtualenv<21.0.0,>=20.26.6 (from poetry)\n",
      "  Downloading virtualenv-20.28.0-py3-none-any.whl.metadata (4.4 kB)\n",
      "Requirement already satisfied: colorama in c:\\users\\hp\\desktop\\sub rosa offline\\scraper api\\.venv\\lib\\site-packages (from build<2.0.0,>=1.0.3->poetry) (0.4.6)\n",
      "Collecting msgpack<2.0.0,>=0.5.2 (from cachecontrol<0.15.0,>=0.14.0->cachecontrol[filecache]<0.15.0,>=0.14.0->poetry)\n",
      "  Downloading msgpack-1.1.0-cp311-cp311-win_amd64.whl.metadata (8.6 kB)\n",
      "Collecting filelock>=3.8.0 (from cachecontrol[filecache]<0.15.0,>=0.14.0->poetry)\n",
      "  Downloading filelock-3.16.1-py3-none-any.whl.metadata (2.9 kB)\n",
      "Collecting rapidfuzz<4.0.0,>=3.0.0 (from cleo<3.0.0,>=2.1.0->poetry)\n",
      "  Downloading rapidfuzz-3.10.1-cp311-cp311-win_amd64.whl.metadata (11 kB)\n",
      "Requirement already satisfied: urllib3>=1.25 in c:\\users\\hp\\desktop\\sub rosa offline\\scraper api\\.venv\\lib\\site-packages (from dulwich<0.22.0,>=0.21.2->poetry) (2.2.3)\n",
      "Collecting jaraco.classes (from keyring<25.0.0,>=24.0.0->poetry)\n",
      "  Downloading jaraco.classes-3.4.0-py3-none-any.whl.metadata (2.6 kB)\n",
      "Collecting importlib-metadata>=4.11.4 (from keyring<25.0.0,>=24.0.0->poetry)\n",
      "  Downloading importlib_metadata-8.5.0-py3-none-any.whl.metadata (4.8 kB)\n",
      "Collecting pywin32-ctypes>=0.2.0 (from keyring<25.0.0,>=24.0.0->poetry)\n",
      "  Downloading pywin32_ctypes-0.2.3-py3-none-any.whl.metadata (3.9 kB)\n",
      "Collecting ptyprocess>=0.5 (from pexpect<5.0.0,>=4.7.0->poetry)\n",
      "  Downloading ptyprocess-0.7.0-py2.py3-none-any.whl.metadata (1.3 kB)\n",
      "Requirement already satisfied: charset-normalizer<4,>=2 in c:\\users\\hp\\desktop\\sub rosa offline\\scraper api\\.venv\\lib\\site-packages (from requests<3.0,>=2.26->poetry) (3.4.0)\n",
      "Requirement already satisfied: idna<4,>=2.5 in c:\\users\\hp\\desktop\\sub rosa offline\\scraper api\\.venv\\lib\\site-packages (from requests<3.0,>=2.26->poetry) (3.10)\n",
      "Requirement already satisfied: certifi>=2017.4.17 in c:\\users\\hp\\desktop\\sub rosa offline\\scraper api\\.venv\\lib\\site-packages (from requests<3.0,>=2.26->poetry) (2024.8.30)\n",
      "Collecting distlib<1,>=0.3.7 (from virtualenv<21.0.0,>=20.26.6->poetry)\n",
      "  Downloading distlib-0.3.9-py2.py3-none-any.whl.metadata (5.2 kB)\n",
      "Collecting zipp>=3.20 (from importlib-metadata>=4.11.4->keyring<25.0.0,>=24.0.0->poetry)\n",
      "  Downloading zipp-3.21.0-py3-none-any.whl.metadata (3.7 kB)\n",
      "Collecting more-itertools (from jaraco.classes->keyring<25.0.0,>=24.0.0->poetry)\n",
      "  Downloading more_itertools-10.5.0-py3-none-any.whl.metadata (36 kB)\n",
      "Downloading poetry-1.8.5-py3-none-any.whl (249 kB)\n",
      "Using cached poetry_core-1.9.1-py3-none-any.whl (309 kB)\n",
      "Downloading build-1.2.2.post1-py3-none-any.whl (22 kB)\n",
      "Downloading cachecontrol-0.14.1-py3-none-any.whl (22 kB)\n",
      "Downloading cleo-2.1.0-py3-none-any.whl (78 kB)\n",
      "Downloading crashtest-0.4.1-py3-none-any.whl (7.6 kB)\n",
      "Downloading dulwich-0.21.7-cp311-cp311-win_amd64.whl (487 kB)\n",
      "Downloading fastjsonschema-2.21.1-py3-none-any.whl (23 kB)\n",
      "Downloading installer-0.7.0-py3-none-any.whl (453 kB)\n",
      "Downloading keyring-24.3.1-py3-none-any.whl (38 kB)\n",
      "Downloading pexpect-4.9.0-py2.py3-none-any.whl (63 kB)\n",
      "Downloading pkginfo-1.12.0-py3-none-any.whl (32 kB)\n",
      "Downloading poetry_plugin_export-1.8.0-py3-none-any.whl (10 kB)\n",
      "Downloading pyproject_hooks-1.2.0-py3-none-any.whl (10 kB)\n",
      "Downloading requests_toolbelt-1.0.0-py2.py3-none-any.whl (54 kB)\n",
      "Downloading shellingham-1.5.4-py2.py3-none-any.whl (9.8 kB)\n",
      "Downloading tomlkit-0.13.2-py3-none-any.whl (37 kB)\n",
      "Downloading trove_classifiers-2024.10.21.16-py3-none-any.whl (13 kB)\n",
      "Downloading virtualenv-20.28.0-py3-none-any.whl (4.3 MB)\n",
      "   ---------------------------------------- 0.0/4.3 MB ? eta -:--:--\n",
      "   ---------------------------------------- 4.3/4.3 MB 63.7 MB/s eta 0:00:00\n",
      "Downloading distlib-0.3.9-py2.py3-none-any.whl (468 kB)\n",
      "Downloading filelock-3.16.1-py3-none-any.whl (16 kB)\n",
      "Downloading importlib_metadata-8.5.0-py3-none-any.whl (26 kB)\n",
      "Downloading msgpack-1.1.0-cp311-cp311-win_amd64.whl (74 kB)\n",
      "Downloading ptyprocess-0.7.0-py2.py3-none-any.whl (13 kB)\n",
      "Downloading pywin32_ctypes-0.2.3-py3-none-any.whl (30 kB)\n",
      "Downloading rapidfuzz-3.10.1-cp311-cp311-win_amd64.whl (1.6 MB)\n",
      "   ---------------------------------------- 0.0/1.6 MB ? eta -:--:--\n",
      "   ---------------------------------------- 1.6/1.6 MB 43.6 MB/s eta 0:00:00\n",
      "Downloading jaraco.classes-3.4.0-py3-none-any.whl (6.8 kB)\n",
      "Downloading zipp-3.21.0-py3-none-any.whl (9.6 kB)\n",
      "Downloading more_itertools-10.5.0-py3-none-any.whl (60 kB)\n",
      "Installing collected packages: trove-classifiers, ptyprocess, fastjsonschema, distlib, zipp, tomlkit, shellingham, rapidfuzz, pywin32-ctypes, pyproject-hooks, poetry-core, pkginfo, pexpect, msgpack, more-itertools, installer, filelock, dulwich, crashtest, virtualenv, requests-toolbelt, jaraco.classes, importlib-metadata, cleo, cachecontrol, build, keyring, poetry-plugin-export, poetry\n",
      "Successfully installed build-1.2.2.post1 cachecontrol-0.14.1 cleo-2.1.0 crashtest-0.4.1 distlib-0.3.9 dulwich-0.21.7 fastjsonschema-2.21.1 filelock-3.16.1 importlib-metadata-8.5.0 installer-0.7.0 jaraco.classes-3.4.0 keyring-24.3.1 more-itertools-10.5.0 msgpack-1.1.0 pexpect-4.9.0 pkginfo-1.12.0 poetry-1.8.5 poetry-core-1.9.1 poetry-plugin-export-1.8.0 ptyprocess-0.7.0 pyproject-hooks-1.2.0 pywin32-ctypes-0.2.3 rapidfuzz-3.10.1 requests-toolbelt-1.0.0 shellingham-1.5.4 tomlkit-0.13.2 trove-classifiers-2024.10.21.16 virtualenv-20.28.0 zipp-3.21.0\n",
      "Note: you may need to restart the kernel to use updated packages.\n"
     ]
    }
   ],
   "source": [
    "pip install poetry"
   ]
  },
  {
   "cell_type": "code",
   "execution_count": 14,
   "metadata": {},
   "outputs": [
    {
     "name": "stdout",
     "output_type": "stream",
     "text": [
      "Collecting browser_cookie3\n",
      "  Downloading browser_cookie3-0.19.1-py3-none-any.whl.metadata (632 bytes)\n",
      "Collecting lz4 (from browser_cookie3)\n",
      "  Using cached lz4-4.3.3-cp311-cp311-win_amd64.whl.metadata (3.8 kB)\n",
      "Collecting pycryptodomex (from browser_cookie3)\n",
      "  Downloading pycryptodomex-3.21.0-cp36-abi3-win_amd64.whl.metadata (3.4 kB)\n",
      "Downloading browser_cookie3-0.19.1-py3-none-any.whl (14 kB)\n",
      "Using cached lz4-4.3.3-cp311-cp311-win_amd64.whl (99 kB)\n",
      "Downloading pycryptodomex-3.21.0-cp36-abi3-win_amd64.whl (1.8 MB)\n",
      "   ---------------------------------------- 0.0/1.8 MB ? eta -:--:--\n",
      "   ---------------------------------------- 1.8/1.8 MB 33.1 MB/s eta 0:00:00\n",
      "Installing collected packages: pycryptodomex, lz4, browser_cookie3\n",
      "Successfully installed browser_cookie3-0.19.1 lz4-4.3.3 pycryptodomex-3.21.0\n",
      "Note: you may need to restart the kernel to use updated packages.\n"
     ]
    }
   ],
   "source": [
    "pip install browser_cookie3"
   ]
  },
  {
   "cell_type": "code",
   "execution_count": 38,
   "metadata": {},
   "outputs": [],
   "source": [
    "import browser_cookie3\n",
    "import requests\n",
    "\n",
    "# Extract cookies from the browser\n",
    "cookiejar_simple = browser_cookie3.firefox(domain_name='www.linkedin.com')\n",
    "\n",
    "# Convert cookies to a format usable by Requests while avoiding duplicates\n",
    "cookiejar = requests.cookies.RequestsCookieJar()\n",
    "\n",
    "# Keep track of added cookies to avoid duplicates\n",
    "added_cookies = set()\n",
    "\n",
    "for cookie in cookiejar_simple:\n",
    "    # Create a unique identifier for each cookie (name + domain + path)\n",
    "    cookie_identifier = (cookie.name, cookie.domain, cookie.path)\n",
    "    \n",
    "    if cookie_identifier not in added_cookies:\n",
    "        cookiejar.set_cookie(cookie)\n",
    "        added_cookies.add(cookie_identifier)\n"
   ]
  },
  {
   "cell_type": "code",
   "execution_count": 39,
   "metadata": {},
   "outputs": [
    {
     "name": "stdout",
     "output_type": "stream",
     "text": [
      "<RequestsCookieJar[<Cookie li_alerts=e30= for www.linkedin.com/>, <Cookie li_rm=AQG3_nKHho4ubwAAAZOwaoivj1979hl4v0UD7HPGXY_K4tZSqjrcghalMlEgHuqncZYq108xtuo3k27WBscd5UW89TCsn3-GmoAh8kc6W8CwCj239m9_jv4Z for .www.linkedin.com/>, <Cookie li_at=AQEDASa4zgsDnJO7AAABk7Bru4oAAAGT1Hg_ik0AH8wea1TatSSjWEa4vh3bWTxmeaJByFf0LbLQUM2yIJAX_SFumle4GxSNvak8-qZg-wYOpVjIsr8AGaUyO5v4e3BvWcvNoqTc2zZu-26V1f9-5NlU for .www.linkedin.com/>, <Cookie JSESSIONID=\"ajax:3105849245320411360\" for .www.linkedin.com/>, <Cookie timezone=Europe/Paris for .www.linkedin.com/>, <Cookie li_theme=light for .www.linkedin.com/>, <Cookie li_theme_set=app for .www.linkedin.com/>, <Cookie bscookie=\"v=1&20241210115304eb556749-52af-4c24-85ba-d068e8fb8510AQFDh5DxW1hc5k52Ct2rpJP8zqhXDJK-\" for .www.linkedin.com/>]>\n"
     ]
    }
   ],
   "source": [
    "print(cookiejar)"
   ]
  },
  {
   "cell_type": "code",
   "execution_count": 43,
   "metadata": {},
   "outputs": [
    {
     "name": "stdout",
     "output_type": "stream",
     "text": [
      "{'lastName': 'Sayarh', 'student': False, 'geoCountryUrn': 'urn:li:fs_geo:105015875', 'geoLocationBackfilled': False, 'entityUrn': 'urn:li:fs_profile:ACoAACa4zgsB96qCpPF83cf8Z0gLiX7lmKCSuBA', 'headline': 'Nous digitalisons la croissance de marques ambitieuses | Performance Marketer chez Sub Rosa 🌹', 'summary': 'Marketing & Data Enthusiast', 'industryName': 'Marketing Services', 'locationName': 'France', 'geoCountryName': 'France', 'elt': False, 'profilePictureOriginalImage': {'com.linkedin.common.VectorImage': {'artifacts': [{'width': 1200, 'fileIdentifyingUrlPathSegment': '900_1200/profile-originalphoto-shrink_900_1200/0/1711965778048?m=AQLQ1xm2KO0BawAAAZOw26Yu_wCUMTCGTqFvlJquigwuT7w-6FFZk54xYg&e=1733925405&v=beta&t=WDhp1H3ixQlpL7Y1zhIN_-jyFdsta3EfUtXUf-L-wI4', 'expiresAt': 1733925405000, 'height': 800}, {'width': 600, 'fileIdentifyingUrlPathSegment': '450_600/profile-originalphoto-shrink_450_600/0/1711965778048?m=AQKjJCQMDg9RKgAAAZOw26YuDXG80fm_2hHk-pxeIw06AdJKBZEDlwRDFw&e=1733925405&v=beta&t=QNz13Gj89yrLcedfsJL0dUB9WO0FBFmm0Zc7F_Tsr5U', 'expiresAt': 1733925405000, 'height': 400}], 'rootUrl': 'https://www.linkedin.com/dms/prv/image/v2/D4E04AQE0owd04BEP_Q/profile-originalphoto-shrink_'}}, 'birthDate': {'month': 1, 'day': 23}, 'industryUrn': 'urn:li:fs_industry:1862', 'firstName': 'Jalil', 'profilePicture': {'displayImage': 'urn:li:digitalmediaAsset:D4E03AQGQ1MuBDugTLw', 'originalImage': 'urn:li:digitalmediaAsset:D4E04AQE0owd04BEP_Q', 'photoFilterEditInfo': {'bottomLeft': {'x': 0.13947436020795664, 'y': 1.0}, 'saturation': 0.0, 'brightness': 0.0, 'vignette': 0.0, 'photoFilterType': 'ORIGINAL', 'bottomRight': {'x': 0.8057243602079567, 'y': 1.0}, 'topLeft': {'x': 0.13947436020795664, 'y': 0.0}, 'contrast': 0.0, 'topRight': {'x': 0.8057243602079567, 'y': 0.0}}}, 'geoLocation': {'geoUrn': 'urn:li:fs_geo:101240143', 'postalCode': '75000'}, 'geoLocationName': 'Paris, Île-de-France', 'location': {'basicLocation': {'countryCode': 'fr', 'postalCode': '75000'}}, 'backgroundPicture': {'displayImage': 'urn:li:digitalmediaAsset:D4E16AQH6aU7Yds6FAg', 'originalImage': 'urn:li:digitalmediaAsset:D4E04AQGo_AMwWFBoWw', 'photoFilterEditInfo': {'bottomLeft': {'x': 0.0014285714285713165, 'y': 1.0}, 'saturation': 0.0, 'brightness': 0.0, 'vignette': 0.0, 'photoFilterType': 'ORIGINAL', 'bottomRight': {'x': 0.9985714285714286, 'y': 1.0}, 'topLeft': {'x': 0.0014285714285713165, 'y': 0.0}, 'contrast': 0.0, 'topRight': {'x': 0.9985714285714286, 'y': 0.0}}}, 'backgroundPictureOriginalImage': {'com.linkedin.common.VectorImage': {'artifacts': [{'width': 1400, 'fileIdentifyingUrlPathSegment': '396_1584/profile-originalbackgroundimage-shrink_396_1584/0/1699547420895?m=AQK3k0oAH7ekdQAAAZOw26YudzzGrTac0ko0nHDsWi5--dIrfglXRHYApw&e=1733925405&v=beta&t=frKs3WfHOYNatVAQLTsKkmYt6bCvgfoaj904hb8nebI', 'expiresAt': 1733925405000, 'height': 349}, {'width': 800, 'fileIdentifyingUrlPathSegment': '200_800/profile-originalbackgroundimage-shrink_200_800/0/1699547420895?m=AQJjofkto3ApGQAAAZOw26YuDBM8ah2-FbMKBGacd5U9IxVCsOGDagKTaw&e=1733925405&v=beta&t=9xy-uKlnVbGv82GNJ9vvINogGpQ_5L59g9mFuoEPFKs', 'expiresAt': 1733925405000, 'height': 199}], 'rootUrl': 'https://www.linkedin.com/dms/prv/image/v2/D4E04AQGo_AMwWFBoWw/profile-originalbackgroundimage-shrink_'}}, 'displayPictureUrl': 'https://media.licdn.com/dms/image/v2/D4E03AQGQ1MuBDugTLw/profile-displayphoto-shrink_', 'img_100_100': '100_100/profile-displayphoto-shrink_100_100/0/1711965778167?e=1739404800&v=beta&t=4vkaERLXhT4Ttl27DvdaNMMYQi8SPcvmD4avMZsJk7Y', 'img_200_200': '200_200/profile-displayphoto-shrink_200_200/0/1711965778167?e=1739404800&v=beta&t=9PL0ms-Ky7U7rMGSLxfp1tJFImDrbTkRElvM5XtJ3CA', 'img_400_400': '400_400/profile-displayphoto-shrink_400_400/0/1711965778167?e=1739404800&v=beta&t=6HuJ3yk8wyLEglHWsp5Lxisq_ajm1AmfvucAbc5zsWg', 'img_800_800': '800_800/profile-displayphoto-shrink_800_800/0/1711965778167?e=1739404800&v=beta&t=OMrflhLU-AdG7jqNcbpMI10_UWOGdpoUOiz4stgm3K0', 'profile_id': 'ACoAACa4zgsB96qCpPF83cf8Z0gLiX7lmKCSuBA', 'profile_urn': 'urn:li:fs_miniProfile:ACoAACa4zgsB96qCpPF83cf8Z0gLiX7lmKCSuBA', 'member_urn': 'urn:li:member:649645579', 'public_id': 'jalil-the-marketer', 'experience': [{'locationName': 'Paris, Île-de-France, France', 'entityUrn': 'urn:li:fs_position:(ACoAACa4zgsB96qCpPF83cf8Z0gLiX7lmKCSuBA,2244981376)', 'geoLocationName': 'Paris, Île-de-France, France', 'geoUrn': 'urn:li:fs_geo:106383538', 'companyName': 'Sub Rosa', 'timePeriod': {'startDate': {'month': 9, 'year': 2023}}, 'description': '• Organization and conduct of weekly customer meetings to review performance.\\n• Reflection on multi-channel growth marketing strategies\\n• Use of Paid Marketing platforms: Facebook Ads, Google Ads, etc.\\n• Brand image development\\n• Task automation via no-code tools\\n• UX/UI analysis and website optimization\\n• Strategic SEO analysis\\n• Data collection, visualization and analysis\\n• Regular monitoring of new growth practices and tools', 'company': {'employeeCountRange': {'start': 2, 'end': 10}, 'industries': ['Marketing et publicité']}, 'title': 'Performance Marketer', 'region': 'urn:li:fs_region:(fr,0)', 'companyUrn': 'urn:li:fs_miniCompany:79405976', 'companyLogoUrl': 'https://media.licdn.com/dms/image/v2/C4E0BAQH7487OMJfL1A/company-logo_'}, {'locationName': 'Kortrijk, Flemish Region, Belgium', 'entityUrn': 'urn:li:fs_position:(ACoAACa4zgsB96qCpPF83cf8Z0gLiX7lmKCSuBA,2225818532)', 'geoLocationName': 'Kortrijk, Flemish Region, Belgium', 'geoUrn': 'urn:li:fs_geo:102866486', 'companyName': 'Sales4Bio', 'timePeriod': {'endDate': {'month': 7, 'year': 2023}, 'startDate': {'month': 6, 'year': 2022}}, 'description': '• SEO optimization of the aventurebio.be website and creation of CRM & automation strategies to\\nimprove retention, which increased sales by 37% in the first quarter of 2023.\\n• Creation of an offline & online marketing strategy that enabled us to personalize the customer approach across several bilingual channels for the organic and HoReCa (Hotel-Restaurant-Cafe) sectors.\\n• Analysis of online & offline sales & marketing data in order to improve our processes, give proper\\nrecommendations to partner brands and increase returning customers.', 'company': {'employeeCountRange': {'start': 2, 'end': 10}, 'industries': ['Commerce et développement international']}, 'title': 'Marketing Data Analyst', 'region': 'urn:li:fs_region:(be,0)', 'companyUrn': 'urn:li:fs_miniCompany:70446265', 'companyLogoUrl': 'https://media.licdn.com/dms/image/v2/C4E0BAQFZ_wAgPvdn4Q/company-logo_'}, {'locationName': 'Casablanca-Settat, Morocco', 'entityUrn': 'urn:li:fs_position:(ACoAACa4zgsB96qCpPF83cf8Z0gLiX7lmKCSuBA,2244757497)', 'geoLocationName': 'Casablanca-Settat, Morocco', 'geoUrn': 'urn:li:fs_geo:106186529', 'companyName': 'Mediarep', 'timePeriod': {'endDate': {'month': 7, 'year': 2021}, 'startDate': {'month': 4, 'year': 2021}}, 'description': \"• Social media marketing of 2 social network accounts (Instagram & LinkedIn) to improve brand image.\\n• Planning and organization of corporate and promotional events.\\n• Creation of e-influence campaigns on behalf of Virgin Mega Store in partnership with Apple, which\\nboosted sales of the brand's products by 34% over the period of the campaign.\\n• Digital audit of online presence for various clients and creation of digital marketing strategies.\", 'company': {'employeeCountRange': {'start': 11, 'end': 50}, 'industries': ['Marketing et publicité']}, 'title': 'Digital marketing and event management intern', 'region': 'urn:li:fs_region:(ma,0)', 'companyUrn': 'urn:li:fs_miniCompany:10110751', 'companyLogoUrl': 'https://media.licdn.com/dms/image/v2/C4D0BAQGdUdSJJqMODw/company-logo_'}, {'locationName': 'Casablanca-Settat, Morocco', 'entityUrn': 'urn:li:fs_position:(ACoAACa4zgsB96qCpPF83cf8Z0gLiX7lmKCSuBA,2244759393)', 'geoLocationName': 'Casablanca-Settat, Morocco', 'geoUrn': 'urn:li:fs_geo:106186529', 'companyName': 'MAROC ORGANIC ®', 'timePeriod': {'endDate': {'month': 3, 'year': 2021}, 'startDate': {'month': 2, 'year': 2021}}, 'description': '• Implementation of the private label marketing mix and market research for product launch.\\n• Digital audit of 2 websites (SEO and UX) and social networks to implement continuous improvement.\\n• Creation of the content strategy and media planning for the various channels to improve online reach.', 'company': {'employeeCountRange': {'start': 11, 'end': 50}, 'industries': ['Commerce et développement international']}, 'title': 'Sales And Marketing Intern', 'region': 'urn:li:fs_region:(ma,0)', 'companyUrn': 'urn:li:fs_miniCompany:68817911', 'companyLogoUrl': 'https://media.licdn.com/dms/image/v2/C4D0BAQGV5_zXGnjAHg/company-logo_'}, {'locationName': 'Casablanca-Settat, Morocco', 'entityUrn': 'urn:li:fs_position:(ACoAACa4zgsB96qCpPF83cf8Z0gLiX7lmKCSuBA,2244759421)', 'geoLocationName': 'Casablanca-Settat, Morocco', 'geoUrn': 'urn:li:fs_geo:106186529', 'companyName': 'ECA Assurances', 'timePeriod': {'endDate': {'month': 6, 'year': 2020}, 'startDate': {'month': 9, 'year': 2019}}, 'description': '• Prospecting, lead qualification and analysis of prospect needs using the SONCAS method, and customer portfolio management and reporting.', 'company': {'employeeCountRange': {'start': 201, 'end': 500}, 'industries': ['Assurances']}, 'title': 'Salesperson', 'region': 'urn:li:fs_region:(ma,0)', 'companyUrn': 'urn:li:fs_miniCompany:2240042', 'companyLogoUrl': 'https://media.licdn.com/dms/image/v2/D4E0BAQERWdbUVRqu-w/company-logo_'}], 'education': [{'entityUrn': 'urn:li:fs_education:(ACoAACa4zgsB96qCpPF83cf8Z0gLiX7lmKCSuBA,915641855)', 'school': {'objectUrn': 'urn:li:school:5110030', 'entityUrn': 'urn:li:fs_miniSchool:5110030', 'active': True, 'schoolName': 'HEM - Business & Engineering School', 'trackingId': '9/UqrH4qSwWb83bzn6+M2A==', 'logoUrl': 'https://media.licdn.com/dms/image/v2/D4E0BAQG82uY-5F6B9Q/company-logo_'}, 'timePeriod': {'endDate': {'month': 9, 'year': 2022}, 'startDate': {'month': 9, 'year': 2016}}, 'fieldOfStudyUrn': 'urn:li:fs_fieldOfStudy:101483', 'degreeName': \"Master's degree\", 'schoolName': 'HEM - Business & Engineering School', 'fieldOfStudy': 'Sales, Distribution, and Marketing Operations, General', 'degreeUrn': 'urn:li:fs_degree:500', 'schoolUrn': 'urn:li:fs_miniSchool:5110030'}], 'languages': [], 'publications': [], 'certifications': [], 'volunteer': [{'role': 'Project Manager', 'companyName': 'Rotaract', 'timePeriod': {'endDate': {'month': 7, 'year': 2021}, 'startDate': {'month': 9, 'year': 2020}}, 'cause': 'EDUCATION', 'description': '• Creation of training courses to educate civil servants and local business owners to use digital tools to their advantage.', 'company': {'miniCompany': {'objectUrn': 'urn:li:company:781743', 'entityUrn': 'urn:li:fs_miniCompany:781743', 'name': 'Rotaract', 'showcase': False, 'active': True, 'logo': {'com.linkedin.common.VectorImage': {'artifacts': [{'width': 200, 'fileIdentifyingUrlPathSegment': '200_200/company-logo_200_200/0/1631359087734?e=1741824000&v=beta&t=sdYaKeYt0ZcdmH6lcQCo_kAWtke83fnsZiYHiXa7f5Q', 'expiresAt': 1741824000000, 'height': 200}, {'width': 100, 'fileIdentifyingUrlPathSegment': '100_100/company-logo_100_100/0/1631359087734?e=1741824000&v=beta&t=UxES6rwepkbPQ-KzBsPUeUujxaYcvo0vIagGdUzyYwY', 'expiresAt': 1741824000000, 'height': 100}, {'width': 400, 'fileIdentifyingUrlPathSegment': '400_400/company-logo_400_400/0/1631359087734?e=1741824000&v=beta&t=_txXax4D00MEkvDOBpo24ENDObv3NdlfrmEfHXs55WU', 'expiresAt': 1741824000000, 'height': 400}], 'rootUrl': 'https://media.licdn.com/dms/image/v2/C510BAQEL1WihS5G3yg/company-logo_'}}, 'universalName': 'rotaract-international', 'dashCompanyUrn': 'urn:li:fsd_company:781743', 'trackingId': 'vLmiNjcMQN+ISxE7dBlqqw=='}}, 'companyUrn': 'urn:li:fs_miniCompany:781743'}, {'role': 'Member', 'companyName': 'Rotaract', 'timePeriod': {'endDate': {'month': 7, 'year': 2019}, 'startDate': {'month': 9, 'year': 2018}}, 'cause': 'HEALTH', 'description': '• Collecting funds and managing events to help people living in underserved communities with medical help, food and warm clothing. This experience prepared me for a career where I can make a positive impact.', 'company': {'miniCompany': {'objectUrn': 'urn:li:company:781743', 'entityUrn': 'urn:li:fs_miniCompany:781743', 'name': 'Rotaract', 'showcase': False, 'active': True, 'logo': {'com.linkedin.common.VectorImage': {'artifacts': [{'width': 200, 'fileIdentifyingUrlPathSegment': '200_200/company-logo_200_200/0/1631359087734?e=1741824000&v=beta&t=sdYaKeYt0ZcdmH6lcQCo_kAWtke83fnsZiYHiXa7f5Q', 'expiresAt': 1741824000000, 'height': 200}, {'width': 100, 'fileIdentifyingUrlPathSegment': '100_100/company-logo_100_100/0/1631359087734?e=1741824000&v=beta&t=UxES6rwepkbPQ-KzBsPUeUujxaYcvo0vIagGdUzyYwY', 'expiresAt': 1741824000000, 'height': 100}, {'width': 400, 'fileIdentifyingUrlPathSegment': '400_400/company-logo_400_400/0/1631359087734?e=1741824000&v=beta&t=_txXax4D00MEkvDOBpo24ENDObv3NdlfrmEfHXs55WU', 'expiresAt': 1741824000000, 'height': 400}], 'rootUrl': 'https://media.licdn.com/dms/image/v2/C510BAQEL1WihS5G3yg/company-logo_'}}, 'universalName': 'rotaract-international', 'dashCompanyUrn': 'urn:li:fsd_company:781743', 'trackingId': 'rqnpjLMMR7aq6xtye03Nhw=='}}, 'companyUrn': 'urn:li:fs_miniCompany:781743'}], 'honors': [], 'projects': [], 'skills': [{'name': 'Analytical Skills'}, {'name': 'Search Engine Optimization (SEO)'}, {'name': 'Sales'}, {'name': 'Customer Relationship Management (CRM)'}], 'urn_id': 'ACoAACa4zgsB96qCpPF83cf8Z0gLiX7lmKCSuBA'}\n",
      "-------\n",
      "{'email_address': 'abdeljalil.sayarh@gmail.com', 'websites': [{'url': 'https://www.behance.net/jalilsayarh', 'label': 'PORTFOLIO'}], 'twitter': [], 'birthdate': {'month': 1, 'day': 23}, 'ims': None, 'phone_numbers': [{'type': 'MOBILE', 'number': '0611126846'}]}\n",
      "-------\n",
      "it worked ?\n",
      "[]\n"
     ]
    }
   ],
   "source": [
    "from linkedin_api import Linkedin\n",
    "\n",
    "\n",
    "# GET a profile\n",
    "profile = api.get_profile('jalil-the-marketer')\n",
    "print(profile)\n",
    "# GET a profiles contact info\n",
    "contact_info = api.get_profile_contact_info('jalil-the-marketer')\n",
    "print(\"-------\")\n",
    "print(contact_info)\n",
    "# GET 1st degree connections of a given profile\n",
    "connections = api.get_profile_connections('1234asc12304')\n",
    "print(\"-------\")\n",
    "print(\"it worked ?\")\n",
    "print(connections)"
   ]
  },
  {
   "cell_type": "code",
   "execution_count": 49,
   "metadata": {},
   "outputs": [],
   "source": [
    "def get_jobs():\n",
    "    # Authenticate using any Linkedin user account credentials\n",
    "    api = Linkedin('abdeljalil.sayarh@gmail.com', '54321Nisk@',cookies = cookiejar)\n",
    "    # Extensive job search function call\n",
    "    jobs = api.search_jobs(\n",
    "        keywords=\"Growth Hacker\",  # Search keywords (e.g., job titles or skills)\n",
    "        #companies=[\"urn:li:organization:12345\"],  # List of company URN IDs\n",
    "        experience=[\"3\",\"4\",\"5\",\"6\"],  # Experience levels: 1=Internship, 2=Entry-level, 3=Associate, 4=Mid-senior, 5=Director, 6=Executive\n",
    "        job_type=[\"F\", \"C\", \"T\", \"O\"],  # Job types: F=Full-time, C=Contract, P=Part-time, T=Temporary, I=Internship, V=Volunteer, O=Other\n",
    "        #job_title=[\"urn:li:jobTitle:123\"],  # List of job title URN IDs (specific to LinkedIn)\n",
    "        #industries=[\"urn:li:industry:123\"],  # List of industry URN IDs\n",
    "        location_name=\"France\",  # Location name (e.g., city, state, or country)\n",
    "        #remote=[\"1\", \"2\", \"3\"],  # Remote options: 1=Onsite, 2=Remote, 3=Hybrid\n",
    "        listed_at=86400,  # Time in seconds since the job was posted (e.g., 86400 = last 24 hours)\n",
    "        distance=25,  # Maximum distance in miles from the specified location\n",
    "        limit=5,  # Maximum number of job results to return\n",
    "        offset=0,  # Number of results to skip (useful for pagination)\n",
    "    )\n",
    "\n",
    "    # Print detailed job data\n",
    "    for job in jobs:\n",
    "        print(job)\n",
    "    \n",
    "    return jobs\n"
   ]
  },
  {
   "cell_type": "code",
   "execution_count": 50,
   "metadata": {},
   "outputs": [
    {
     "name": "stdout",
     "output_type": "stream",
     "text": [
      "Collecting flaskNote: you may need to restart the kernel to use updated packages.\n",
      "\n",
      "  Downloading flask-3.1.0-py3-none-any.whl.metadata (2.7 kB)\n",
      "Requirement already satisfied: linkedin-api in c:\\users\\hp\\desktop\\sub rosa offline\\scraper api\\.venv\\lib\\site-packages (2.3.1)\n",
      "Collecting Werkzeug>=3.1 (from flask)\n",
      "  Downloading werkzeug-3.1.3-py3-none-any.whl.metadata (3.7 kB)\n",
      "Collecting Jinja2>=3.1.2 (from flask)\n",
      "  Using cached jinja2-3.1.4-py3-none-any.whl.metadata (2.6 kB)\n",
      "Collecting itsdangerous>=2.2 (from flask)\n",
      "  Using cached itsdangerous-2.2.0-py3-none-any.whl.metadata (1.9 kB)\n",
      "Collecting click>=8.1.3 (from flask)\n",
      "  Using cached click-8.1.7-py3-none-any.whl.metadata (3.0 kB)\n",
      "Collecting blinker>=1.9 (from flask)\n",
      "  Downloading blinker-1.9.0-py3-none-any.whl.metadata (1.6 kB)\n",
      "Requirement already satisfied: beautifulsoup4<5.0.0,>=4.12.3 in c:\\users\\hp\\desktop\\sub rosa offline\\scraper api\\.venv\\lib\\site-packages (from linkedin-api) (4.12.3)\n",
      "Requirement already satisfied: lxml<6.0.0,>=5.3.0 in c:\\users\\hp\\desktop\\sub rosa offline\\scraper api\\.venv\\lib\\site-packages (from linkedin-api) (5.3.0)\n",
      "Requirement already satisfied: requests<3.0.0,>=2.32.3 in c:\\users\\hp\\desktop\\sub rosa offline\\scraper api\\.venv\\lib\\site-packages (from linkedin-api) (2.32.3)\n",
      "Requirement already satisfied: soupsieve>1.2 in c:\\users\\hp\\desktop\\sub rosa offline\\scraper api\\.venv\\lib\\site-packages (from beautifulsoup4<5.0.0,>=4.12.3->linkedin-api) (2.6)\n",
      "Requirement already satisfied: colorama in c:\\users\\hp\\desktop\\sub rosa offline\\scraper api\\.venv\\lib\\site-packages (from click>=8.1.3->flask) (0.4.6)\n",
      "Collecting MarkupSafe>=2.0 (from Jinja2>=3.1.2->flask)\n",
      "  Downloading MarkupSafe-3.0.2-cp311-cp311-win_amd64.whl.metadata (4.1 kB)\n",
      "Requirement already satisfied: charset-normalizer<4,>=2 in c:\\users\\hp\\desktop\\sub rosa offline\\scraper api\\.venv\\lib\\site-packages (from requests<3.0.0,>=2.32.3->linkedin-api) (3.4.0)\n",
      "Requirement already satisfied: idna<4,>=2.5 in c:\\users\\hp\\desktop\\sub rosa offline\\scraper api\\.venv\\lib\\site-packages (from requests<3.0.0,>=2.32.3->linkedin-api) (3.10)\n",
      "Requirement already satisfied: urllib3<3,>=1.21.1 in c:\\users\\hp\\desktop\\sub rosa offline\\scraper api\\.venv\\lib\\site-packages (from requests<3.0.0,>=2.32.3->linkedin-api) (2.2.3)\n",
      "Requirement already satisfied: certifi>=2017.4.17 in c:\\users\\hp\\desktop\\sub rosa offline\\scraper api\\.venv\\lib\\site-packages (from requests<3.0.0,>=2.32.3->linkedin-api) (2024.8.30)\n",
      "Downloading flask-3.1.0-py3-none-any.whl (102 kB)\n",
      "Downloading blinker-1.9.0-py3-none-any.whl (8.5 kB)\n",
      "Using cached click-8.1.7-py3-none-any.whl (97 kB)\n",
      "Using cached itsdangerous-2.2.0-py3-none-any.whl (16 kB)\n",
      "Using cached jinja2-3.1.4-py3-none-any.whl (133 kB)\n",
      "Downloading werkzeug-3.1.3-py3-none-any.whl (224 kB)\n",
      "Downloading MarkupSafe-3.0.2-cp311-cp311-win_amd64.whl (15 kB)\n",
      "Installing collected packages: MarkupSafe, itsdangerous, click, blinker, Werkzeug, Jinja2, flask\n",
      "Successfully installed Jinja2-3.1.4 MarkupSafe-3.0.2 Werkzeug-3.1.3 blinker-1.9.0 click-8.1.7 flask-3.1.0 itsdangerous-2.2.0\n"
     ]
    }
   ],
   "source": [
    "pip install flask linkedin-api"
   ]
  }
 ],
 "metadata": {
  "kernelspec": {
   "display_name": ".venv",
   "language": "python",
   "name": "python3"
  },
  "language_info": {
   "codemirror_mode": {
    "name": "ipython",
    "version": 3
   },
   "file_extension": ".py",
   "mimetype": "text/x-python",
   "name": "python",
   "nbconvert_exporter": "python",
   "pygments_lexer": "ipython3",
   "version": "3.11.9"
  }
 },
 "nbformat": 4,
 "nbformat_minor": 2
}
